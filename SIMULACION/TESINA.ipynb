{
 "cells": [
  {
   "cell_type": "markdown",
   "metadata": {},
   "source": [
    "# LBR iiwa 14 R820"
   ]
  },
  {
   "cell_type": "code",
   "execution_count": 2,
   "metadata": {},
   "outputs": [],
   "source": [
    "import pandas as pd\n",
    "import time\n",
    "import sim as vrep\n",
    "import sympy as sp\n",
    "import numpy as np\n",
    "import matplotlib.pyplot as plt\n",
    "\n",
    "from numpy import sin, cos, pi, arctan2\n",
    "from funciones_python.funciones_cinematica import *"
   ]
  },
  {
   "cell_type": "markdown",
   "metadata": {},
   "source": [
    "# CINEMATICA DIRECTA"
   ]
  },
  {
   "cell_type": "code",
   "execution_count": 3,
   "metadata": {},
   "outputs": [],
   "source": [
    "#q = [0, pi/2, 0, -pi/2, 0, pi/2, 0]\n",
    "#q = [0, 0, 0, +pi/2, 0, 0, 0]\n",
    "q = [0, 0, 0, 0, pi/2, 0, 0]"
   ]
  },
  {
   "cell_type": "code",
   "execution_count": 4,
   "metadata": {},
   "outputs": [
    {
     "name": "stdout",
     "output_type": "stream",
     "text": [
      "Matriz Homogenea D-H\n",
      "[[ 0.     0.    -1.     0.   ]\n",
      " [ 1.     0.     0.     0.   ]\n",
      " [ 0.    -1.     0.     1.306]\n",
      " [ 0.     0.     0.     1.   ]]\n",
      "\n",
      "Posicion Final\n",
      "x: 0.0 m\n",
      "y: 0.0 m\n",
      "z: 1.306 m\n",
      "\n",
      "Angulos de Euler\n",
      "ϕ: 180.0°\n",
      "θ: 90.0°\n",
      "ψ: -90.0°\n"
     ]
    }
   ],
   "source": [
    "H, x, y, z, phi, theta, psi = cinematica_directa(q)\n",
    "\n",
    "print(\"Matriz Homogenea D-H\")\n",
    "print(H)\n",
    "print(\"\\nPosicion Final\")\n",
    "print(\"x: {} m\".format(x))\n",
    "print(\"y: {} m\".format(y))\n",
    "print(\"z: {} m\".format(z))\n",
    "print(\"\\nAngulos de Euler\")\n",
    "print(\"ϕ: {}°\".format(phi*180/pi))\n",
    "print(\"θ: {}°\".format(theta*180/pi))\n",
    "print(\"ψ: {}°\".format(psi*180/pi))"
   ]
  },
  {
   "cell_type": "markdown",
   "metadata": {},
   "source": [
    "# CINEMATICA INVERSA"
   ]
  },
  {
   "cell_type": "markdown",
   "metadata": {},
   "source": [
    "## Metodo analitico (Desacoplamiento Cinematico)"
   ]
  },
  {
   "cell_type": "code",
   "execution_count": 5,
   "metadata": {},
   "outputs": [
    {
     "name": "stdout",
     "output_type": "stream",
     "text": [
      "[-0.06487119  0.25223051  0.35815189]\n",
      "[ 73.61756037 196.69960054  26.92858198]\n"
     ]
    }
   ],
   "source": [
    "randx = 0.8*np.random.rand() - 0.4\n",
    "randy = 0.8*np.random.rand() - 0.4\n",
    "randz = 0.4*np.random.rand()\n",
    "\n",
    "orx = 4*pi*np.random.rand()-2*pi\n",
    "ory = 4*pi*np.random.rand()-2*pi\n",
    "orz = 4*pi*np.random.rand()-2*pi\n",
    "\n",
    "pos_deseada = [randx, randy, randz]\n",
    "orientacion = [orx, ory, orz]\n",
    "\n",
    "#pos_deseada = [0.526, 0, 0.78]\n",
    "#orientacion = [pi/2, pi/2, 0]\n",
    "\n",
    "print(np.array(pos_deseada))\n",
    "print(np.array(orientacion)*180/pi)"
   ]
  },
  {
   "cell_type": "code",
   "execution_count": 6,
   "metadata": {
    "scrolled": true
   },
   "outputs": [
    {
     "name": "stdout",
     "output_type": "stream",
     "text": [
      "Tiempo computacional: 183.00414085388184 ms\n",
      "\n",
      "Ubicacion rotacional de las articulaciones\n",
      "q1 = 115.05441301640163\n",
      "q2 = 32.48724644646158\n",
      "q3 = 0.0\n",
      "q4 = 126.15111499759557\n",
      "q5 = 154.65200755070666\n",
      "q6 = -117.03750474108105\n",
      "q7 = -114.02382643743738\n"
     ]
    }
   ],
   "source": [
    "start = time.time()\n",
    "q = cinematica_inversa(pos_deseada, orientacion, error=0.000001)\n",
    "print(\"Tiempo computacional: {} ms\".format((time.time()-start)*1000))\n",
    "print('\\nUbicacion rotacional de las articulaciones')\n",
    "print('q1 = {}'.format(q[0]*180/pi))\n",
    "print('q2 = {}'.format(q[1]*180/pi))\n",
    "print('q3 = {}'.format(q[2]*180/pi))\n",
    "print('q4 = {}'.format(q[3]*180/pi))\n",
    "print('q5 = {}'.format(q[4]*180/pi))\n",
    "print('q6 = {}'.format(q[5]*180/pi))\n",
    "print('q7 = {}'.format(q[6]*180/pi))"
   ]
  },
  {
   "cell_type": "code",
   "execution_count": 7,
   "metadata": {},
   "outputs": [
    {
     "name": "stdout",
     "output_type": "stream",
     "text": [
      "x: -0.06487118870954028 m\n",
      "y: 0.2522305141214505 m\n",
      "z: 0.35815188864469005 m\n",
      "ϕ: -106.38243962686307 °\n",
      "θ: 163.30039945740631 °\n",
      "ψ: -153.07141802313828 °\n"
     ]
    }
   ],
   "source": [
    "H, x, y, z, phi, theta, psi = cinematica_directa(q)\n",
    "print(\"x: {} m\".format(x))\n",
    "print(\"y: {} m\".format(y))\n",
    "print(\"z: {} m\".format(z))\n",
    "print(\"ϕ: {} °\".format(phi*180/pi))\n",
    "print(\"θ: {} °\".format(theta*180/pi))\n",
    "print(\"ψ: {} °\".format(psi*180/pi))"
   ]
  },
  {
   "cell_type": "code",
   "execution_count": 8,
   "metadata": {},
   "outputs": [
    {
     "name": "stdout",
     "output_type": "stream",
     "text": [
      "[[-0.67535265 -0.73302804 -0.08104741]\n",
      " [-0.69156498  0.66763338 -0.27568741]\n",
      " [ 0.25619656 -0.13013667 -0.9578245 ]]\n",
      "(-1.8567238377928486, 2.850129640353702, -2.6716002352003527)\n"
     ]
    }
   ],
   "source": [
    "R_final = matriz_R_euler(phi, theta, psi)\n",
    "print(R_final)\n",
    "print(angulos_euler(R_final))"
   ]
  },
  {
   "cell_type": "code",
   "execution_count": 9,
   "metadata": {},
   "outputs": [
    {
     "name": "stdout",
     "output_type": "stream",
     "text": [
      "Error en x: 0.0 m (-0.0 %)\n",
      "Error en y: -1.1102230246251565e-16 m (-4.401620589213944e-14 %)\n",
      "Error en z: 0.0 m (0.0 %)\n",
      "Error en ϕ: 180.00000000000003 ° (244.50687998032714 %)\n",
      "Error en θ: 33.39920108518737 ° (16.979801175031962 %)\n",
      "Error en ψ: 180.00000000000003 ° (668.4347512853284 %)\n"
     ]
    }
   ],
   "source": [
    "print(\"Error en x: {} m ({} %)\".format(pos_deseada[0]-x, 100*(pos_deseada[0]-x)/(pos_deseada[0]+1e-10)))\n",
    "print(\"Error en y: {} m ({} %)\".format(pos_deseada[1]-y, 100*(pos_deseada[1]-y)/(pos_deseada[1]+1e-10)))\n",
    "print(\"Error en z: {} m ({} %)\".format(pos_deseada[2]-z, 100*(pos_deseada[2]-z)/(pos_deseada[2]+1e-10)))\n",
    "print(\"Error en ϕ: {} ° ({} %)\".format((orientacion[0]-phi)*180/pi, 100*(orientacion[0]-phi)/(orientacion[0]+1e-10)))\n",
    "print(\"Error en θ: {} ° ({} %)\".format((orientacion[1]-theta)*180/pi, 100*(orientacion[1]-theta)/(orientacion[1]+1e-10)))\n",
    "print(\"Error en ψ: {} ° ({} %)\".format((orientacion[2]-psi)*180/pi, 100*(orientacion[2]-psi)/(orientacion[2]+1e-10)))"
   ]
  },
  {
   "cell_type": "markdown",
   "metadata": {},
   "source": [
    "Observacion:\n",
    "- El error relativo puede ser muy grande cuando el valor exacto es 0.\n",
    "- El error en la orientacion se debe a las multiples soluciones que existe."
   ]
  },
  {
   "cell_type": "code",
   "execution_count": 10,
   "metadata": {},
   "outputs": [
    {
     "name": "stdout",
     "output_type": "stream",
     "text": [
      "Error de R\n",
      "[[ 1.11022302e-16  0.00000000e+00  6.93889390e-17]\n",
      " [-1.11022302e-16 -1.11022302e-16  2.22044605e-16]\n",
      " [-1.66533454e-16  5.55111512e-17 -1.11022302e-16]]\n"
     ]
    }
   ],
   "source": [
    "print(\"Error de R\")\n",
    "print(R_final - H[:3,:3])"
   ]
  },
  {
   "cell_type": "markdown",
   "metadata": {},
   "source": [
    "# COMUNICACION CON EL SIMULADOR (CoppeliaSim)"
   ]
  },
  {
   "cell_type": "code",
   "execution_count": 11,
   "metadata": {},
   "outputs": [],
   "source": [
    "def connect(port):\n",
    "# Establece la conexión a VREP\n",
    "# port debe coincidir con el puerto de conexión en VREP\n",
    "# retorna el número de cliente o -1 si no puede establecer conexión\n",
    "    vrep.simxFinish(-1) # just in case, close all opened connections\n",
    "    clientID = vrep.simxStart('127.0.0.1',port,True,True,2000,5) # Conectarse\n",
    "    if clientID == 0:\n",
    "        vrep.simxAddStatusbarMessage(clientID,'Comunicacion con Python iniciada',vrep.simx_opmode_blocking);\n",
    "        print('Comunicacion con Python iniciada');\n",
    "    else: \n",
    "        print(\"no se pudo conectar\")\n",
    "    return clientID"
   ]
  },
  {
   "cell_type": "code",
   "execution_count": 12,
   "metadata": {},
   "outputs": [
    {
     "name": "stdout",
     "output_type": "stream",
     "text": [
      "Comunicacion con Python iniciada\n"
     ]
    }
   ],
   "source": [
    "# Conectarse al servidor de VREP\n",
    "# *** ejecutar cada vez que se reinicia la simulación ***\n",
    "clientID = connect(19999)"
   ]
  },
  {
   "cell_type": "code",
   "execution_count": 13,
   "metadata": {},
   "outputs": [],
   "source": [
    "#q = np.array([0, 0, 0, 0, 0, 0, 0])\n",
    "#q = q*np.pi/180\n",
    "\n",
    "q = np.array([0,-pi/2,0,0,0,pi/2,0])\n",
    "\n",
    "# Obtenemos los manejadores para cada una de las articulaciones del robot\n",
    "ret,joint1 = vrep.simxGetObjectHandle(clientID,'joint1',vrep.simx_opmode_blocking)\n",
    "ret,joint2 = vrep.simxGetObjectHandle(clientID,'joint2',vrep.simx_opmode_blocking)\n",
    "ret,joint3 = vrep.simxGetObjectHandle(clientID,'joint3',vrep.simx_opmode_blocking)\n",
    "ret,joint4 = vrep.simxGetObjectHandle(clientID,'joint4',vrep.simx_opmode_blocking)\n",
    "ret,joint5 = vrep.simxGetObjectHandle(clientID,'joint5',vrep.simx_opmode_blocking)\n",
    "ret,joint6 = vrep.simxGetObjectHandle(clientID,'joint6',vrep.simx_opmode_blocking)\n",
    "ret,joint7 = vrep.simxGetObjectHandle(clientID,'joint7',vrep.simx_opmode_blocking)\n",
    "\n",
    "# enviamos la posición de joint1, en radianes.\n",
    "returnCode = vrep.simxSetJointTargetPosition(clientID, joint1, q[0], vrep.simx_opmode_oneshot)\n",
    "returnCode = vrep.simxSetJointTargetPosition(clientID, joint2, q[1], vrep.simx_opmode_oneshot)\n",
    "returnCode = vrep.simxSetJointTargetPosition(clientID, joint3, q[2], vrep.simx_opmode_oneshot)\n",
    "returnCode = vrep.simxSetJointTargetPosition(clientID, joint4, q[3], vrep.simx_opmode_oneshot)\n",
    "returnCode = vrep.simxSetJointTargetPosition(clientID, joint5, q[4], vrep.simx_opmode_oneshot)\n",
    "returnCode = vrep.simxSetJointTargetPosition(clientID, joint6, q[5], vrep.simx_opmode_oneshot)\n",
    "returnCode = vrep.simxSetJointTargetPosition(clientID, joint7, q[6], vrep.simx_opmode_oneshot)"
   ]
  },
  {
   "cell_type": "code",
   "execution_count": 14,
   "metadata": {},
   "outputs": [
    {
     "name": "stdout",
     "output_type": "stream",
     "text": [
      "[-0.811185    0.00282343  0.48523716]\n"
     ]
    }
   ],
   "source": [
    "# Obtenemos el manejador para el dummy \n",
    "returnCode,handle=vrep.simxGetObjectHandle(clientID,'Dummy',vrep.simx_opmode_blocking)\n",
    "# A partir de su manejador podemos accionar sobre el objeto,\n",
    "# por ejemplo, obtener su posición\n",
    "returnCode,pos = vrep.simxGetObjectPosition(clientID, handle, -1, vrep.simx_opmode_blocking)\n",
    "final = np.array(pos) - np.array([-0.009147586300969124, -0.002803649054840207, 1.3055205345153809-1.306])\n",
    "print(final)"
   ]
  },
  {
   "cell_type": "code",
   "execution_count": 15,
   "metadata": {},
   "outputs": [
    {
     "name": "stdout",
     "output_type": "stream",
     "text": [
      "Error en x: 0.7463138117547798 m (-1150.454967376724 %)\n",
      "Error en y: 0.249407084004318 m (98.88061512864637 %)\n",
      "Error en z: -0.12708526846170953 m (-35.483623695840045 %)\n"
     ]
    }
   ],
   "source": [
    "print(\"Error en x: {} m ({} %)\".format(pos_deseada[0]-final[0], 100*(pos_deseada[0]-final[0])/(pos_deseada[0]+1e-10)))\n",
    "print(\"Error en y: {} m ({} %)\".format(pos_deseada[1]-final[1], 100*(pos_deseada[1]-final[1])/(pos_deseada[1]+1e-10)))\n",
    "print(\"Error en z: {} m ({} %)\".format(pos_deseada[2]-final[2], 100*(pos_deseada[2]-final[2])/(pos_deseada[2]+1e-10)))"
   ]
  },
  {
   "cell_type": "markdown",
   "metadata": {},
   "source": [
    "### Cinemtica diferencial"
   ]
  },
  {
   "cell_type": "code",
   "execution_count": 22,
   "metadata": {},
   "outputs": [
    {
     "name": "stdout",
     "output_type": "stream",
     "text": [
      "6284\n"
     ]
    }
   ],
   "source": [
    "# Curva parametrizada que recorrera el manipulador robotico\n",
    "\n",
    "t = np.arange(0,2*pi,0.001)\n",
    "x = 0.7*np.ones(np.size(t))\n",
    "y = 0.2*np.sin(t)\n",
    "z = 0.2*np.cos(t) + 0.7\n",
    "\n",
    "# tamaño de las muestras\n",
    "n = np.size(t)\n",
    "print(n)"
   ]
  },
  {
   "cell_type": "code",
   "execution_count": 17,
   "metadata": {},
   "outputs": [
    {
     "name": "stdout",
     "output_type": "stream",
     "text": [
      "6284\n"
     ]
    }
   ],
   "source": [
    "t = np.arange(0,2*pi,0.001)\n",
    "x = 0.2*np.cos(t) + 0.6\n",
    "y = 0.2*np.sin(t)\n",
    "z = 0.6*(t/(2*pi)) + 0.2\n",
    "\n",
    "# tamaño de las muestras\n",
    "n = np.size(t)\n",
    "print(n)"
   ]
  },
  {
   "cell_type": "code",
   "execution_count": 18,
   "metadata": {},
   "outputs": [
    {
     "data": {
      "image/png": "[encoded data removed]",
      "text/plain": [
       "<Figure size 432x288 with 1 Axes>"
      ]
     },
     "metadata": {
      "needs_background": "light"
     },
     "output_type": "display_data"
    }
   ],
   "source": [
    "from mpl_toolkits.mplot3d import Axes3D\n",
    "\n",
    "fig = plt.figure()\n",
    "ax = fig.add_subplot(111, projection='3d')\n",
    "plt.plot(x,y,z)\n",
    "\n",
    "plt.show()"
   ]
  },
  {
   "cell_type": "code",
   "execution_count": 19,
   "metadata": {},
   "outputs": [
    {
     "data": {
      "text/plain": [
       "(array([[-1.   ,  0.   ,  0.   ,  0.82 ],\n",
       "        [ 0.   ,  0.   ,  1.   ,  0.   ],\n",
       "        [ 0.   ,  1.   ,  0.   ,  0.234],\n",
       "        [ 0.   ,  0.   ,  0.   ,  1.   ]]),\n",
       " 0.8200000000000001,\n",
       " 0.0,\n",
       " 0.23399999999999999,\n",
       " 1.5707963267948966,\n",
       " 1.5707963267948966,\n",
       " 1.5707963267948966)"
      ]
     },
     "execution_count": 19,
     "metadata": {},
     "output_type": "execute_result"
    }
   ],
   "source": [
    "cinematica_directa([0,pi/2,0,0,0,pi/2,0])"
   ]
  },
  {
   "cell_type": "code",
   "execution_count": 33,
   "metadata": {},
   "outputs": [],
   "source": [
    "pos_inicial = [x[0], y[0], z[0]]\n",
    "orientacion = [pi/2, pi/2, 0]\n",
    "q = cinematica_inversa(pos_inicial, orientacion, error=0.000001)\n",
    "\n",
    "# Obtenemos los manejadores para cada una de las articulaciones del robot\n",
    "ret,joint1 = vrep.simxGetObjectHandle(clientID,'joint1',vrep.simx_opmode_blocking)\n",
    "ret,joint2 = vrep.simxGetObjectHandle(clientID,'joint2',vrep.simx_opmode_blocking)\n",
    "ret,joint3 = vrep.simxGetObjectHandle(clientID,'joint3',vrep.simx_opmode_blocking)\n",
    "ret,joint4 = vrep.simxGetObjectHandle(clientID,'joint4',vrep.simx_opmode_blocking)\n",
    "ret,joint5 = vrep.simxGetObjectHandle(clientID,'joint5',vrep.simx_opmode_blocking)\n",
    "ret,joint6 = vrep.simxGetObjectHandle(clientID,'joint6',vrep.simx_opmode_blocking)\n",
    "ret,joint7 = vrep.simxGetObjectHandle(clientID,'joint7',vrep.simx_opmode_blocking)\n",
    "\n",
    "# enviamos la posición de joint1, en radianes.\n",
    "returnCode = vrep.simxSetJointTargetPosition(clientID, joint1, q[0], vrep.simx_opmode_oneshot)\n",
    "returnCode = vrep.simxSetJointTargetPosition(clientID, joint2, q[1], vrep.simx_opmode_oneshot)\n",
    "returnCode = vrep.simxSetJointTargetPosition(clientID, joint3, q[2], vrep.simx_opmode_oneshot)\n",
    "returnCode = vrep.simxSetJointTargetPosition(clientID, joint4, q[3], vrep.simx_opmode_oneshot)\n",
    "returnCode = vrep.simxSetJointTargetPosition(clientID, joint5, q[4], vrep.simx_opmode_oneshot)\n",
    "returnCode = vrep.simxSetJointTargetPosition(clientID, joint6, q[5], vrep.simx_opmode_oneshot)\n",
    "returnCode = vrep.simxSetJointTargetPosition(clientID, joint7, q[6], vrep.simx_opmode_oneshot)"
   ]
  },
  {
   "cell_type": "code",
   "execution_count": 34,
   "metadata": {
    "scrolled": true
   },
   "outputs": [],
   "source": [
    "# Obtenemos los manejadores para cada una de las articulaciones del robot\n",
    "ret,joint1 = vrep.simxGetObjectHandle(clientID,'joint1',vrep.simx_opmode_blocking)\n",
    "ret,joint2 = vrep.simxGetObjectHandle(clientID,'joint2',vrep.simx_opmode_blocking)\n",
    "ret,joint3 = vrep.simxGetObjectHandle(clientID,'joint3',vrep.simx_opmode_blocking)\n",
    "ret,joint4 = vrep.simxGetObjectHandle(clientID,'joint4',vrep.simx_opmode_blocking)\n",
    "ret,joint5 = vrep.simxGetObjectHandle(clientID,'joint5',vrep.simx_opmode_blocking)\n",
    "ret,joint6 = vrep.simxGetObjectHandle(clientID,'joint6',vrep.simx_opmode_blocking)\n",
    "ret,joint7 = vrep.simxGetObjectHandle(clientID,'joint7',vrep.simx_opmode_blocking)\n",
    "\n",
    "for i in range(0, n):\n",
    "    \n",
    "    #time.sleep(0.1)\n",
    "    pos_deseada = [x[i], y[i], z[i]]\n",
    "    orientacion = [pi/2, pi/2, 0]\n",
    "    q = cinematica_inversa(pos_deseada, orientacion, error=0.000001)\n",
    "\n",
    "    # enviamos la posición de joint1, en radianes.\n",
    "    returnCode = vrep.simxSetJointTargetPosition(clientID, joint1, q[0], vrep.simx_opmode_oneshot)\n",
    "    returnCode = vrep.simxSetJointTargetPosition(clientID, joint2, q[1], vrep.simx_opmode_oneshot)\n",
    "    returnCode = vrep.simxSetJointTargetPosition(clientID, joint3, q[2], vrep.simx_opmode_oneshot)\n",
    "    returnCode = vrep.simxSetJointTargetPosition(clientID, joint4, q[3], vrep.simx_opmode_oneshot)\n",
    "    returnCode = vrep.simxSetJointTargetPosition(clientID, joint5, q[4], vrep.simx_opmode_oneshot)\n",
    "    returnCode = vrep.simxSetJointTargetPosition(clientID, joint6, q[5], vrep.simx_opmode_oneshot)\n",
    "    returnCode = vrep.simxSetJointTargetPosition(clientID, joint7, q[6], vrep.simx_opmode_oneshot)\n",
    "        \n",
    "vrep.simxAddStatusbarMessage(clientID,'Finalizacion',vrep.simx_opmode_blocking);"
   ]
  },
  {
   "cell_type": "markdown",
   "metadata": {},
   "source": [
    "## Metodos iterativos (Descenso del gradiente)"
   ]
  },
  {
   "cell_type": "code",
   "execution_count": 10,
   "metadata": {},
   "outputs": [],
   "source": [
    "def matriz_homogenea_DH_simbolico(theta,d,a,alpha):\n",
    "    \n",
    "    ct = sp.cos(theta)\n",
    "    st = sp.sin(theta)\n",
    "    ca = sp.cos(alpha)\n",
    "    sa = sp.sin(alpha)\n",
    "    \n",
    "    # VERIFICAMOS EL ANGULO \"theta\"\n",
    "    if(abs(theta)==pi or abs(theta) == 2*pi):\n",
    "        st = 0\n",
    "    elif(abs(theta) == pi/2):\n",
    "        ct = 0\n",
    "        \n",
    "    # VERIFICAMOS EL ANGULO \"alpha\"\n",
    "    if(abs(alpha)==pi or abs(alpha) == 2*pi):\n",
    "        sa = 0\n",
    "    elif(abs(alpha) == pi/2):\n",
    "        ca = 0\n",
    "    \n",
    "    h = [[ct, -st*ca, st*sa, a*ct],\n",
    "         [st, ct*ca, -ct*sa, a*st],\n",
    "         [0, sa, ca, d],\n",
    "         [0, 0, 0, 1]]\n",
    "    H = sp.Matrix(h)\n",
    "    \n",
    "    return H"
   ]
  },
  {
   "cell_type": "code",
   "execution_count": 11,
   "metadata": {},
   "outputs": [],
   "source": [
    "q1 = sp.symbols('q1')\n",
    "q2 = sp.symbols('q2')\n",
    "q3 = sp.symbols('q3')\n",
    "q4 = sp.symbols('q4')\n",
    "q5 = sp.symbols('q5')\n",
    "q6 = sp.symbols('q6')\n",
    "q7 = sp.symbols('q7')\n",
    "\n",
    "# Parametros D-H\n",
    "theta = [q1, q2, q3, q4, q5, q6, q7]\n",
    "d = [0.36, 0, 0.42, 0, 0.4, 0, 0.126]\n",
    "a = [0, 0, 0, 0, 0, 0, 0]\n",
    "alpha = [-pi/2, pi/2, -pi/2, pi/2, -pi/2, pi/2, -pi/2]\n",
    "\n",
    "A1 = matriz_homogenea_DH_simbolico(theta[0], d[0], a[0], alpha[0])\n",
    "A2 = matriz_homogenea_DH_simbolico(theta[1], d[1], a[1], alpha[1])\n",
    "A3 = matriz_homogenea_DH_simbolico(theta[2], d[2], a[2], alpha[2])\n",
    "A4 = matriz_homogenea_DH_simbolico(theta[3], d[3], a[3], alpha[3])\n",
    "A5 = matriz_homogenea_DH_simbolico(theta[4], d[4], a[4], alpha[4])\n",
    "A6 = matriz_homogenea_DH_simbolico(theta[5], d[5], a[5], alpha[5])\n",
    "A7 = matriz_homogenea_DH_simbolico(theta[6], d[6], a[6], alpha[6])\n",
    "\n",
    "T1 = A1\n",
    "T2 = T1*A2\n",
    "T3 = T2*A3\n",
    "T4 = T3*A4\n",
    "T5 = T4*A5\n",
    "T6 = T5*A6\n",
    "T7 = T6*A7\n",
    "\n",
    "H = T7"
   ]
  },
  {
   "cell_type": "code",
   "execution_count": 15,
   "metadata": {},
   "outputs": [
    {
     "name": "stdout",
     "output_type": "stream",
     "text": [
      "0 1 2 3 4 5 6 7 8 9 10 11 12 13 14 15 16 17 18 19 20 21 22 23 24 25 26 27 28 29 30 31 32 33 34 35 36 37 38 39 40 41 42 43 44 45 46 47 48 49 50 51 52 53 54 55 56 57 58 59 60 61 62 63 64 65 66 67 68 69 70 71 72 73 74 75 76 77 78 79 80 81 82 83 84 85 86 87 88 89 90 91 92 93 94 95 96 97 98 99 \n",
      "\n",
      "Tiempo computacional: 34.68476057052612 s\n",
      "\n",
      "Ubicacion rotacional de las articulaciones\n",
      "q1 = 2.8878566717795424 °\n",
      "q2 = -32.898757946160096 °\n",
      "q3 = 8.234770539125389 °\n",
      "q4 = 108.41247957983454 °\n",
      "q5 = 17.81096773380254 °\n",
      "q6 = 78.69598893332879 °\n",
      "q7 = 28.64788975654116 °\n"
     ]
    }
   ],
   "source": [
    "P = T7[0:4,3] # funcion de la posicion f(q1,q2,...)\n",
    "pos_deseada = [0.2, 0.1, 0.7] #[0, 0, 1.306]\n",
    "q = sp.Matrix([q1, q2, q3, q4, q5, q6, q7])\n",
    "F = sp.Matrix([(P[0]-pos_deseada[0])**2 + (P[1]-pos_deseada[1])**2 + (P[2]-pos_deseada[2])**2]) # Funcion de costo\n",
    "J = F.jacobian(q)\n",
    "\n",
    "start = time.time()\n",
    "q = np.reshape(np.array([0.5, 0.5, 0.5, 0.5, 0.5, 0.5, 0.5]), (1,7))\n",
    "alpha = 0.8;\n",
    "\n",
    "for i in range(0,100):\n",
    "    dJ = J.subs({q1:q[0,0], q2:q[0,1], q3:q[0,2], q4:q[0,3], q5:q[0,4], q6:q[0,5], q7:q[0,6]})\n",
    "    dJ = np.array(dJ)\n",
    "    q = q - alpha*dJ\n",
    "    print(i, end=' ')\n",
    "    \n",
    "q = np.array(q)\n",
    "q = np.reshape(q, (7,))\n",
    "q = np.float64(q)\n",
    "print(\"\\n\")\n",
    "print(\"Tiempo computacional: {} s\".format((time.time()-start)))\n",
    "print('\\nUbicacion rotacional de las articulaciones')\n",
    "print('q1 = {} °'.format(q[0]*180/pi))\n",
    "print('q2 = {} °'.format(q[1]*180/pi))\n",
    "print('q3 = {} °'.format(q[2]*180/pi))\n",
    "print('q4 = {} °'.format(q[3]*180/pi))\n",
    "print('q5 = {} °'.format(q[4]*180/pi))\n",
    "print('q6 = {} °'.format(q[5]*180/pi))\n",
    "print('q7 = {} °'.format(q[6]*180/pi))"
   ]
  },
  {
   "cell_type": "code",
   "execution_count": 16,
   "metadata": {},
   "outputs": [
    {
     "name": "stdout",
     "output_type": "stream",
     "text": [
      "x: 0.20000007010391885 m\n",
      "y: 0.10000004095976564 m\n",
      "z: 0.700000028373293 m\n",
      "ϕ: 76.17512959822002 °\n",
      "θ: 66.53239956963792 °\n",
      "ψ: 73.08728443845087 °\n"
     ]
    }
   ],
   "source": [
    "H, x, y, z, phi, theta, psi = cinematica_directa(q)\n",
    "print(\"x: {} m\".format(x))\n",
    "print(\"y: {} m\".format(y))\n",
    "print(\"z: {} m\".format(z))\n",
    "print(\"ϕ: {} °\".format(phi*180/pi))\n",
    "print(\"θ: {} °\".format(theta*180/pi))\n",
    "print(\"ψ: {} °\".format(psi*180/pi))"
   ]
  },
  {
   "cell_type": "code",
   "execution_count": 17,
   "metadata": {},
   "outputs": [
    {
     "name": "stdout",
     "output_type": "stream",
     "text": [
      "Error en x: -7.010391883666145e-08 m (-3.505195940080474e-05 %)\n",
      "Error en y: -4.095976563478487e-08 m (-4.0959765593825104e-05 %)\n",
      "Error en z: -2.8373293048389314e-08 m (-4.053327577762284e-06 %)\n",
      "\n",
      "Nota: El error relativo puede ser muy grande cuando el valor exacto es 0\n"
     ]
    }
   ],
   "source": [
    "print(\"Error en x: {} m ({} %)\".format(pos_deseada[0]-x, 100*(pos_deseada[0]-x)/(pos_deseada[0]+1e-10)))\n",
    "print(\"Error en y: {} m ({} %)\".format(pos_deseada[1]-y, 100*(pos_deseada[1]-y)/(pos_deseada[1]+1e-10)))\n",
    "print(\"Error en z: {} m ({} %)\".format(pos_deseada[2]-z, 100*(pos_deseada[2]-z)/(pos_deseada[2]+1e-10)))\n",
    "print(\"\\nNota: El error relativo puede ser muy grande cuando el valor exacto es 0\")"
   ]
  },
  {
   "cell_type": "code",
   "execution_count": 58,
   "metadata": {},
   "outputs": [
    {
     "data": {
      "text/plain": [
       "16.29712765831292"
      ]
     },
     "execution_count": 58,
     "metadata": {},
     "output_type": "execute_result"
    }
   ],
   "source": [
    "(20.682753149589786+25.383152188826905+2.8254776365220677)/3"
   ]
  },
  {
   "cell_type": "markdown",
   "metadata": {},
   "source": [
    "## Descenso del gradiente (otra forma)"
   ]
  },
  {
   "cell_type": "code",
   "execution_count": 63,
   "metadata": {},
   "outputs": [],
   "source": [
    "def funcion_costo(q, pos_deseada):\n",
    "    H, _, _, _, _, _, _ = cinematica_directa(q)\n",
    "    P = H[0:4,3]\n",
    "    F = np.array([(P[0]-pos_deseada[0])**2 + (P[1]-pos_deseada[1])**2 + (P[2]-pos_deseada[2])**2]) # Funcion de costo\n",
    "    return F"
   ]
  },
  {
   "cell_type": "code",
   "execution_count": 64,
   "metadata": {},
   "outputs": [
    {
     "data": {
      "text/plain": [
       "array([1.2350225e-07])"
      ]
     },
     "execution_count": 64,
     "metadata": {},
     "output_type": "execute_result"
    }
   ],
   "source": [
    "funcion_costo(q, pos_deseada)"
   ]
  },
  {
   "cell_type": "code",
   "execution_count": 65,
   "metadata": {},
   "outputs": [
    {
     "data": {
      "text/plain": [
       "array([0., 0., 0., 0., 0., 0., 0.])"
      ]
     },
     "execution_count": 65,
     "metadata": {},
     "output_type": "execute_result"
    }
   ],
   "source": [
    "np.zeros(7)"
   ]
  },
  {
   "cell_type": "code",
   "execution_count": 75,
   "metadata": {
    "scrolled": true
   },
   "outputs": [
    {
     "name": "stdout",
     "output_type": "stream",
     "text": [
      "0 1000 2000 3000 4000 5000 6000 7000 8000 9000 Tiempo computacional: 15.300300121307373 s\n",
      "[ 0.06913051 -0.57783944  0.13216465  1.89681248  0.31178492  1.35584912\n",
      "  0.5       ]\n"
     ]
    }
   ],
   "source": [
    "#pos_deseada = [0, 0, 1.306]\n",
    "pos_deseada = [0.2, 0.1, 0.7]\n",
    "q = np.array([0.5, 0.5, 0.5, 0.5, 0.5, 0.5, 0.5])\n",
    "\n",
    "h = 0.001\n",
    "alpha = 0.05\n",
    "deriv = np.zeros(7)\n",
    "start = time.time()\n",
    "\n",
    "for i in range(0,10000): #10000\n",
    "    \n",
    "    \n",
    "    #for j in range(0,7):\n",
    "    #    qc = q\n",
    "    #    qc[j] = qc[j] + h\n",
    "    #    deriv[j] = (funcion_costo(qc, pos_deseada) - funcion_costo(q, pos_deseada))/h\n",
    "    \n",
    "    deriv[0] = (funcion_costo([q[0]+h,q[1],q[2],q[3],q[4],q[5],q[6]], pos_deseada) - funcion_costo(q, pos_deseada))/h\n",
    "    deriv[1] = (funcion_costo([q[0],q[1]+h,q[2],q[3],q[4],q[5],q[6]], pos_deseada) - funcion_costo(q, pos_deseada))/h\n",
    "    deriv[2] = (funcion_costo([q[0],q[1],q[2]+h,q[3],q[4],q[5],q[6]], pos_deseada) - funcion_costo(q, pos_deseada))/h\n",
    "    deriv[3] = (funcion_costo([q[0],q[1],q[2],q[3]+h,q[4],q[5],q[6]], pos_deseada) - funcion_costo(q, pos_deseada))/h\n",
    "    deriv[4] = (funcion_costo([q[0],q[1],q[2],q[3],q[4]+h,q[5],q[6]], pos_deseada) - funcion_costo(q, pos_deseada))/h\n",
    "    deriv[5] = (funcion_costo([q[0],q[1],q[2],q[3],q[4],q[5]+h,q[6]], pos_deseada) - funcion_costo(q, pos_deseada))/h\n",
    "    deriv[6] = (funcion_costo([q[0],q[1],q[2],q[3],q[4],q[5],q[6]+h], pos_deseada) - funcion_costo(q, pos_deseada))/h\n",
    "    \n",
    "    q = q - alpha*deriv\n",
    "    \n",
    "    if(i%1000 == 0):\n",
    "        print(i, end=' ')\n",
    "    \n",
    "print(\"Tiempo computacional: {} s\".format((time.time()-start)))\n",
    "print(q)"
   ]
  },
  {
   "cell_type": "code",
   "execution_count": 76,
   "metadata": {},
   "outputs": [
    {
     "name": "stdout",
     "output_type": "stream",
     "text": [
      "x: 0.1999287596198592 m\n",
      "y: 0.09982691120920253 m\n",
      "z: 0.7002396147601797 m\n",
      "ϕ: 76.76788061761575 °\n",
      "θ: 65.72318619361262 °\n",
      "ψ: 72.32230666117587 °\n"
     ]
    }
   ],
   "source": [
    "H, x, y, z, phi, theta, psi = cinematica_directa(q)\n",
    "print(\"x: {} m\".format(x))\n",
    "print(\"y: {} m\".format(y))\n",
    "print(\"z: {} m\".format(z))\n",
    "print(\"ϕ: {} °\".format(phi*180/pi))\n",
    "print(\"θ: {} °\".format(theta*180/pi))\n",
    "print(\"ψ: {} °\".format(psi*180/pi))"
   ]
  },
  {
   "cell_type": "code",
   "execution_count": 77,
   "metadata": {},
   "outputs": [
    {
     "name": "stdout",
     "output_type": "stream",
     "text": [
      "Error en x: 7.124038014080791e-05 m (0.035620190052593856 %)\n",
      "Error en y: 0.00017308879079747097 m (0.17308879062438218 %)\n",
      "Error en z: -0.00023961476017975158 m (-0.034230680020788704 %)\n",
      "\n",
      "Nota: El error relativo puede ser muy grande cuando el valor exacto es 0\n"
     ]
    }
   ],
   "source": [
    "print(\"Error en x: {} m ({} %)\".format(pos_deseada[0]-x, 100*(pos_deseada[0]-x)/(pos_deseada[0]+1e-10)))\n",
    "print(\"Error en y: {} m ({} %)\".format(pos_deseada[1]-y, 100*(pos_deseada[1]-y)/(pos_deseada[1]+1e-10)))\n",
    "print(\"Error en z: {} m ({} %)\".format(pos_deseada[2]-z, 100*(pos_deseada[2]-z)/(pos_deseada[2]+1e-10)))\n",
    "print(\"\\nNota: El error relativo puede ser muy grande cuando el valor exacto es 0\")"
   ]
  },
  {
   "cell_type": "markdown",
   "metadata": {},
   "source": [
    "## Otra forma (Usando funciones que implementan metodos numericos)"
   ]
  },
  {
   "cell_type": "code",
   "execution_count": 13,
   "metadata": {},
   "outputs": [],
   "source": [
    "def matriz_R_euler_simbolico(phi, theta, psi):\n",
    "    \n",
    "    s_ph = sp.sin(phi)\n",
    "    c_ph = sp.cos(phi)\n",
    "    s_th = sp.sin(theta)\n",
    "    c_th = sp.cos(theta)\n",
    "    s_ps = sp.sin(psi)\n",
    "    c_ps = sp.cos(psi)\n",
    "    \n",
    "    # VERIFICAMOS EL ANGULO \"phi\"\n",
    "    if(abs(phi)==pi or abs(phi) == 2*pi):\n",
    "        s_ph = 0\n",
    "    elif(abs(phi) == pi/2):\n",
    "        c_ph = 0\n",
    "\n",
    "    # VERIFICAMOS EL ANGULO \"theta\"\n",
    "    if(abs(theta)==pi or abs(theta) == 2*pi):\n",
    "        s_th = 0\n",
    "    elif(abs(theta) == pi/2):\n",
    "        c_th = 0\n",
    "        \n",
    "    # VERIFICAMOS EL ANGULO \"psi\"\n",
    "    if(abs(psi)==pi or abs(psi) == 2*pi):\n",
    "        s_ps = 0\n",
    "    elif(abs(psi) == pi/2):\n",
    "        c_ps = 0\n",
    "    \n",
    "    r = [[c_ph*c_th*c_ps - s_ph*s_ps, -c_ph*c_th*s_ps - s_ph*c_ps, c_ph*s_th],\n",
    "         [s_ph*c_th*c_ps + c_ph*s_ps, -s_ph*c_th*s_ps + c_ph*c_ps, s_ph*s_th],\n",
    "         [-s_th*c_ps, s_th*s_ps, c_th]]\n",
    "    R = sp.Matrix(r)\n",
    "    \n",
    "    return R"
   ]
  },
  {
   "cell_type": "code",
   "execution_count": 14,
   "metadata": {},
   "outputs": [
    {
     "data": {
      "text/latex": [
       "$\\displaystyle \\left[\\begin{matrix}0 & -0.707106781186548 & -0.707106781186547 & 0.386080302527855\\\\0 & -0.707106781186547 & 0.707106781186548 & 0.386080302527855\\\\-1.0 & 0 & 0 & 0.76\\\\0 & 0 & 0 & 1\\end{matrix}\\right]$"
      ],
      "text/plain": [
       "Matrix([\n",
       "[   0, -0.707106781186548, -0.707106781186547, 0.386080302527855],\n",
       "[   0, -0.707106781186547,  0.707106781186548, 0.386080302527855],\n",
       "[-1.0,                  0,                  0,              0.76],\n",
       "[   0,                  0,                  0,                 1]])"
      ]
     },
     "execution_count": 14,
     "metadata": {},
     "output_type": "execute_result"
    }
   ],
   "source": [
    "pos_deseada = [0.38608030252785497, 0.38608030252785497, 0.76]\n",
    "orientacion= [3*pi/4, pi/2, 0]\n",
    "\n",
    "R = matriz_R_euler_simbolico(orientacion[0], orientacion[1], orientacion[2])\n",
    "RA = sp.Matrix([R.T, [pos_deseada[0], pos_deseada[1],  pos_deseada[2]]])\n",
    "D = sp.Matrix([RA.T, [0,0,0,1]])\n",
    "D"
   ]
  },
  {
   "cell_type": "code",
   "execution_count": 15,
   "metadata": {},
   "outputs": [
    {
     "name": "stdout",
     "output_type": "stream",
     "text": [
      "no se encontró la solución\n"
     ]
    },
    {
     "data": {
      "text/plain": [
       "[0, 0, 0, 0]"
      ]
     },
     "execution_count": 15,
     "metadata": {},
     "output_type": "execute_result"
    }
   ],
   "source": [
    "try:\n",
    "    q = sp.nsolve((H-D), (q1, q2, q3, q4, q5, q6, q7), (0.1, 0.1, 0.1, 0.1, 0.1, 0.1, 0.1), prec=2)\n",
    "except:\n",
    "    print('no se encontró la solución')\n",
    "    q = [0, 0, 0, 0]\n",
    "q"
   ]
  },
  {
   "cell_type": "markdown",
   "metadata": {},
   "source": [
    "# REDES NEURONALES"
   ]
  },
  {
   "cell_type": "code",
   "execution_count": 18,
   "metadata": {},
   "outputs": [],
   "source": [
    "import tensorflow.keras as kr"
   ]
  },
  {
   "cell_type": "code",
   "execution_count": 19,
   "metadata": {},
   "outputs": [],
   "source": [
    "new_model = kr.models.load_model('model_accuracy_86%')"
   ]
  },
  {
   "cell_type": "code",
   "execution_count": 25,
   "metadata": {},
   "outputs": [
    {
     "name": "stdout",
     "output_type": "stream",
     "text": [
      "[-0.34462103  0.13739332  0.16594544]\n",
      "[-244.66521315  150.13902423  127.03847524]\n"
     ]
    }
   ],
   "source": [
    "randx = 0.8*np.random.rand() - 0.4\n",
    "randy = 0.8*np.random.rand() - 0.4\n",
    "randz = 0.4*np.random.rand()\n",
    "\n",
    "orx = 4*pi*np.random.rand()-2*pi\n",
    "ory = 4*pi*np.random.rand()-2*pi\n",
    "orz = 4*pi*np.random.rand()-2*pi\n",
    "\n",
    "pos_deseada = [randx, randy, randz]\n",
    "orientacion = [orx, ory, orz]\n",
    "\n",
    "#pos_deseada = [0.526, 0, 0.78]\n",
    "#orientacion = [pi/2, pi/2, 0]\n",
    "\n",
    "print(np.array(pos_deseada))\n",
    "print(np.array(orientacion)*180/pi)"
   ]
  },
  {
   "cell_type": "code",
   "execution_count": 26,
   "metadata": {},
   "outputs": [
    {
     "name": "stdout",
     "output_type": "stream",
     "text": [
      "[[-0.34462102836858555, 0.13739332190561515, 0.16594543522786687], [-4.270213534552961, 2.620420308614408, 2.2172396696655756]]\n",
      "<class 'list'>\n"
     ]
    },
    {
     "data": {
      "text/plain": [
       "(1, 6)"
      ]
     },
     "execution_count": 26,
     "metadata": {},
     "output_type": "execute_result"
    }
   ],
   "source": [
    "prueba = [pos_deseada, orientacion]\n",
    "print(prueba)\n",
    "print(type(prueba))\n",
    "prueba = np.array(prueba).reshape(1,6)\n",
    "prueba.shape"
   ]
  },
  {
   "cell_type": "code",
   "execution_count": 27,
   "metadata": {},
   "outputs": [
    {
     "name": "stdout",
     "output_type": "stream",
     "text": [
      "Tiempo computacional: 33.52952003479004 ms\n",
      "q1 = -8.413321151689571\n",
      "q2 = 58.91083921403437\n",
      "q3 = -0.0037590152870470126\n",
      "q4 = 10.217232168097883\n",
      "q5 = -47.59724215583896\n",
      "q6 = -140.04540643999772\n",
      "q7 = 251.25165050593725\n"
     ]
    }
   ],
   "source": [
    "start = time.time()\n",
    "q_rna = new_model.predict(prueba)\n",
    "print(\"Tiempo computacional: {} ms\".format((time.time()-start)*1000))\n",
    "q = np.zeros(7)\n",
    "q[0] = q_rna[0,0]\n",
    "q[1] = q_rna[0,1]\n",
    "q[2] = q_rna[0,2]\n",
    "q[3] = q_rna[0,3]\n",
    "q[4] = q_rna[0,4]\n",
    "q[5] = q_rna[0,5]\n",
    "q[6] = q_rna[0,6]\n",
    "\n",
    "print('q1 = {}'.format(q[0]*180/pi))\n",
    "print('q2 = {}'.format(q[1]*180/pi))\n",
    "print('q3 = {}'.format(q[2]*180/pi))\n",
    "print('q4 = {}'.format(q[3]*180/pi))\n",
    "print('q5 = {}'.format(q[4]*180/pi))\n",
    "print('q6 = {}'.format(q[5]*180/pi))\n",
    "print('q7 = {}'.format(q[6]*180/pi))"
   ]
  },
  {
   "cell_type": "code",
   "execution_count": 28,
   "metadata": {},
   "outputs": [
    {
     "name": "stdout",
     "output_type": "stream",
     "text": [
      "x: 0.6257687791076241 m\n",
      "y: -0.03215489173802544 m\n",
      "z: 0.7359564444048337 m\n",
      "ϕ: 37.50245066449754 °\n",
      "θ: 26.39254672305388 °\n",
      "ψ: -162.79360939894366 °\n"
     ]
    }
   ],
   "source": [
    "H, x, y, z, phi, theta, psi = cinematica_directa(q)\n",
    "print(\"x: {} m\".format(x))\n",
    "print(\"y: {} m\".format(y))\n",
    "print(\"z: {} m\".format(z))\n",
    "print(\"ϕ: {} °\".format(phi*180/pi))\n",
    "print(\"θ: {} °\".format(theta*180/pi))\n",
    "print(\"ψ: {} °\".format(psi*180/pi))"
   ]
  },
  {
   "cell_type": "code",
   "execution_count": 29,
   "metadata": {},
   "outputs": [
    {
     "name": "stdout",
     "output_type": "stream",
     "text": [
      "Error en x: -0.9703898074762096 m (281.58171669081145 %)\n",
      "Error en y: 0.1695482136436406 m (123.40353313293588 %)\n",
      "Error en z: -0.5700110091769668 m (-343.4930331471709 %)\n",
      "Error en ϕ: -282.1676638140239 ° (115.32806817460634 %)\n",
      "Error en θ: 123.74647751092039 ° (82.42126131934457 %)\n",
      "Error en ψ: 289.83208463976194 ° (228.14512223739698 %)\n"
     ]
    }
   ],
   "source": [
    "print(\"Error en x: {} m ({} %)\".format(pos_deseada[0]-x, 100*(pos_deseada[0]-x)/(pos_deseada[0]+1e-10)))\n",
    "print(\"Error en y: {} m ({} %)\".format(pos_deseada[1]-y, 100*(pos_deseada[1]-y)/(pos_deseada[1]+1e-10)))\n",
    "print(\"Error en z: {} m ({} %)\".format(pos_deseada[2]-z, 100*(pos_deseada[2]-z)/(pos_deseada[2]+1e-10)))\n",
    "print(\"Error en ϕ: {} ° ({} %)\".format((orientacion[0]-phi)*180/pi, 100*(orientacion[0]-phi)/(orientacion[0]+1e-10)))\n",
    "print(\"Error en θ: {} ° ({} %)\".format((orientacion[1]-theta)*180/pi, 100*(orientacion[1]-theta)/(orientacion[1]+1e-10)))\n",
    "print(\"Error en ψ: {} ° ({} %)\".format((orientacion[2]-psi)*180/pi, 100*(orientacion[2]-psi)/(orientacion[2]+1e-10)))"
   ]
  },
  {
   "cell_type": "markdown",
   "metadata": {},
   "source": [
    "# Exportar data"
   ]
  },
  {
   "cell_type": "code",
   "execution_count": null,
   "metadata": {},
   "outputs": [],
   "source": [
    "# SE GENERA DATOS USANDO LA CINEMATICA DIRECTA\n",
    "n = 1000\n",
    "\n",
    "X = []\n",
    "Y = []\n",
    "Z = []\n",
    "PHI = []\n",
    "THETA = []\n",
    "PSI = []\n",
    "Q1 = []\n",
    "Q2 = []\n",
    "Q3 = []\n",
    "Q4 = []\n",
    "Q5 = []\n",
    "Q6 = []\n",
    "Q7 = []\n",
    "\n",
    "for i in range(0,n):\n",
    "    q = 2*pi*np.random.rand(7, 1)-pi\n",
    "    x, y, z, phi, theta, psi = datos_cinematica_directa(q)\n",
    "    \n",
    "    randx = 0.8*np.random.rand() - 0.4\n",
    "    randy = 0.8*np.random.rand() - 0.4\n",
    "    randz = 0.4*np.random.rand()\n",
    "\n",
    "    pos_deseada = [randx, randy, randz]\n",
    "    q = cinematica_inversa(pos_deseada, orientacion, error=0.000001)\n",
    "    Q1.append(float(q[0]))\n",
    "    Q2.append(float(q[1]))\n",
    "    Q3.append(float(q[2]))\n",
    "    Q4.append(float(q[3]))\n",
    "    Q5.append(float(q[4]))\n",
    "    Q6.append(float(q[5]))\n",
    "    Q7.append(float(q[6]))\n",
    "    X.append(x)\n",
    "    Y.append(y)\n",
    "    Z.append(z)\n",
    "    PHI.append(phi)\n",
    "    THETA.append(theta)\n",
    "    PSI.append(psi)"
   ]
  },
  {
   "cell_type": "code",
   "execution_count": 10,
   "metadata": {},
   "outputs": [],
   "source": [
    "# SE GENERA DATOS USANDO LA CINEMATICA INVERSA\n",
    "n = 10000\n",
    "\n",
    "X = []\n",
    "Y = []\n",
    "Z = []\n",
    "PHI = []\n",
    "THETA = []\n",
    "PSI = []\n",
    "Q1 = []\n",
    "Q2 = []\n",
    "Q3 = []\n",
    "Q4 = []\n",
    "Q5 = []\n",
    "Q6 = []\n",
    "Q7 = []\n",
    "\n",
    "C = 0.34\n",
    "D = 0.4\n",
    "E = 0.4\n",
    "i = 0\n",
    "while 1:\n",
    "    x = 2*(D+E)*(np.random.rand() - 0.5)\n",
    "    y = 2*(D+E)*(np.random.rand() - 0.5)\n",
    "    z = (C+D+E)*np.random.rand()\n",
    "    \n",
    "    # Espacio de trabajo\n",
    "    if( (x**2+y**2+(z-C)**2) >= C**2 and (x**2+y**2+(z-C)**2) <= (D+E)**2 and z >= 0):\n",
    "        pos_deseada[0] = x\n",
    "        pos_deseada[1] = y\n",
    "        pos_deseada[2] = z\n",
    "        orientacion[0] = pi*np.random.rand()\n",
    "        orientacion[1] = pi*np.random.rand()\n",
    "        orientacion[2] = pi*np.random.rand()\n",
    "        q = cinematica_inversa(pos_deseada, orientacion, error=0.000001)\n",
    "        X.append(float(x))\n",
    "        Y.append(float(y))\n",
    "        Z.append(float(z))\n",
    "        PHI.append(orientacion[0])\n",
    "        THETA.append(orientacion[1])\n",
    "        PSI.append(orientacion[2])\n",
    "        Q1.append(float(q[0]))\n",
    "        Q2.append(float(q[1]))\n",
    "        Q3.append(float(q[2]))\n",
    "        Q4.append(float(q[3]))\n",
    "        Q5.append(float(q[4]))\n",
    "        Q6.append(float(q[5]))\n",
    "        Q7.append(float(q[6]))\n",
    "        i += 1\n",
    "        if i == n: break"
   ]
  },
  {
   "cell_type": "code",
   "execution_count": 11,
   "metadata": {},
   "outputs": [
    {
     "data": {
      "text/html": [
       "<div>\n",
       "<style scoped>\n",
       "    .dataframe tbody tr th:only-of-type {\n",
       "        vertical-align: middle;\n",
       "    }\n",
       "\n",
       "    .dataframe tbody tr th {\n",
       "        vertical-align: top;\n",
       "    }\n",
       "\n",
       "    .dataframe thead th {\n",
       "        text-align: right;\n",
       "    }\n",
       "</style>\n",
       "<table border=\"1\" class=\"dataframe\">\n",
       "  <thead>\n",
       "    <tr style=\"text-align: right;\">\n",
       "      <th></th>\n",
       "      <th>x</th>\n",
       "      <th>y</th>\n",
       "      <th>z</th>\n",
       "      <th>phi</th>\n",
       "      <th>theta</th>\n",
       "      <th>psi</th>\n",
       "      <th>q1</th>\n",
       "      <th>q2</th>\n",
       "      <th>q3</th>\n",
       "      <th>q4</th>\n",
       "      <th>q5</th>\n",
       "      <th>q6</th>\n",
       "      <th>q7</th>\n",
       "    </tr>\n",
       "  </thead>\n",
       "  <tbody>\n",
       "    <tr>\n",
       "      <th>0</th>\n",
       "      <td>-0.541396</td>\n",
       "      <td>-0.507727</td>\n",
       "      <td>0.163232</td>\n",
       "      <td>2.479590</td>\n",
       "      <td>2.416790</td>\n",
       "      <td>1.003248</td>\n",
       "      <td>0.670615</td>\n",
       "      <td>-1.725471</td>\n",
       "      <td>0.0</td>\n",
       "      <td>-0.000000</td>\n",
       "      <td>0.638371</td>\n",
       "      <td>-2.186074</td>\n",
       "      <td>-0.336828</td>\n",
       "    </tr>\n",
       "    <tr>\n",
       "      <th>1</th>\n",
       "      <td>-0.519031</td>\n",
       "      <td>0.253564</td>\n",
       "      <td>0.392644</td>\n",
       "      <td>0.214625</td>\n",
       "      <td>0.942186</td>\n",
       "      <td>2.882185</td>\n",
       "      <td>2.891818</td>\n",
       "      <td>0.622340</td>\n",
       "      <td>0.0</td>\n",
       "      <td>1.732539</td>\n",
       "      <td>1.502674</td>\n",
       "      <td>-1.205165</td>\n",
       "      <td>1.689871</td>\n",
       "    </tr>\n",
       "    <tr>\n",
       "      <th>2</th>\n",
       "      <td>0.194361</td>\n",
       "      <td>-0.357258</td>\n",
       "      <td>0.683312</td>\n",
       "      <td>0.962901</td>\n",
       "      <td>1.827849</td>\n",
       "      <td>2.331687</td>\n",
       "      <td>-0.947306</td>\n",
       "      <td>0.186138</td>\n",
       "      <td>0.0</td>\n",
       "      <td>1.387607</td>\n",
       "      <td>2.620345</td>\n",
       "      <td>-2.197973</td>\n",
       "      <td>2.733622</td>\n",
       "    </tr>\n",
       "    <tr>\n",
       "      <th>3</th>\n",
       "      <td>0.454684</td>\n",
       "      <td>0.568969</td>\n",
       "      <td>0.031368</td>\n",
       "      <td>2.733181</td>\n",
       "      <td>1.814509</td>\n",
       "      <td>1.673578</td>\n",
       "      <td>0.941006</td>\n",
       "      <td>1.477768</td>\n",
       "      <td>0.0</td>\n",
       "      <td>0.755464</td>\n",
       "      <td>2.827526</td>\n",
       "      <td>-0.980814</td>\n",
       "      <td>3.117999</td>\n",
       "    </tr>\n",
       "    <tr>\n",
       "      <th>4</th>\n",
       "      <td>-0.376049</td>\n",
       "      <td>-0.336267</td>\n",
       "      <td>0.933223</td>\n",
       "      <td>0.311185</td>\n",
       "      <td>0.146444</td>\n",
       "      <td>1.388432</td>\n",
       "      <td>0.613712</td>\n",
       "      <td>-0.765404</td>\n",
       "      <td>0.0</td>\n",
       "      <td>-0.000000</td>\n",
       "      <td>2.424813</td>\n",
       "      <td>-2.359557</td>\n",
       "      <td>-2.075446</td>\n",
       "    </tr>\n",
       "    <tr>\n",
       "      <th>...</th>\n",
       "      <td>...</td>\n",
       "      <td>...</td>\n",
       "      <td>...</td>\n",
       "      <td>...</td>\n",
       "      <td>...</td>\n",
       "      <td>...</td>\n",
       "      <td>...</td>\n",
       "      <td>...</td>\n",
       "      <td>...</td>\n",
       "      <td>...</td>\n",
       "      <td>...</td>\n",
       "      <td>...</td>\n",
       "      <td>...</td>\n",
       "    </tr>\n",
       "    <tr>\n",
       "      <th>9995</th>\n",
       "      <td>0.125722</td>\n",
       "      <td>-0.541198</td>\n",
       "      <td>0.177473</td>\n",
       "      <td>2.604010</td>\n",
       "      <td>2.796361</td>\n",
       "      <td>2.334236</td>\n",
       "      <td>-1.345676</td>\n",
       "      <td>0.966797</td>\n",
       "      <td>0.0</td>\n",
       "      <td>1.953614</td>\n",
       "      <td>-0.015488</td>\n",
       "      <td>-1.102643</td>\n",
       "      <td>-1.811005</td>\n",
       "    </tr>\n",
       "    <tr>\n",
       "      <th>9996</th>\n",
       "      <td>-0.345578</td>\n",
       "      <td>0.196319</td>\n",
       "      <td>0.187269</td>\n",
       "      <td>3.034485</td>\n",
       "      <td>1.748255</td>\n",
       "      <td>2.801285</td>\n",
       "      <td>2.394402</td>\n",
       "      <td>0.937538</td>\n",
       "      <td>0.0</td>\n",
       "      <td>1.885543</td>\n",
       "      <td>-2.328835</td>\n",
       "      <td>-1.449596</td>\n",
       "      <td>-2.710422</td>\n",
       "    </tr>\n",
       "    <tr>\n",
       "      <th>9997</th>\n",
       "      <td>0.600052</td>\n",
       "      <td>-0.299898</td>\n",
       "      <td>0.446559</td>\n",
       "      <td>1.692218</td>\n",
       "      <td>0.371799</td>\n",
       "      <td>0.829401</td>\n",
       "      <td>-0.645432</td>\n",
       "      <td>0.791493</td>\n",
       "      <td>0.0</td>\n",
       "      <td>1.231704</td>\n",
       "      <td>-1.811843</td>\n",
       "      <td>-1.444788</td>\n",
       "      <td>2.448335</td>\n",
       "    </tr>\n",
       "    <tr>\n",
       "      <th>9998</th>\n",
       "      <td>0.082431</td>\n",
       "      <td>-0.296169</td>\n",
       "      <td>0.679894</td>\n",
       "      <td>2.406636</td>\n",
       "      <td>3.108852</td>\n",
       "      <td>1.230222</td>\n",
       "      <td>-1.706557</td>\n",
       "      <td>-0.348852</td>\n",
       "      <td>0.0</td>\n",
       "      <td>2.097890</td>\n",
       "      <td>-1.555350</td>\n",
       "      <td>-1.310998</td>\n",
       "      <td>-0.165310</td>\n",
       "    </tr>\n",
       "    <tr>\n",
       "      <th>9999</th>\n",
       "      <td>0.329782</td>\n",
       "      <td>0.477347</td>\n",
       "      <td>0.617345</td>\n",
       "      <td>2.731013</td>\n",
       "      <td>2.557545</td>\n",
       "      <td>0.201026</td>\n",
       "      <td>0.959184</td>\n",
       "      <td>0.193262</td>\n",
       "      <td>0.0</td>\n",
       "      <td>1.737677</td>\n",
       "      <td>-0.130561</td>\n",
       "      <td>-0.251814</td>\n",
       "      <td>-0.873177</td>\n",
       "    </tr>\n",
       "  </tbody>\n",
       "</table>\n",
       "<p>10000 rows × 13 columns</p>\n",
       "</div>"
      ],
      "text/plain": [
       "             x         y         z       phi     theta       psi        q1  \\\n",
       "0    -0.541396 -0.507727  0.163232  2.479590  2.416790  1.003248  0.670615   \n",
       "1    -0.519031  0.253564  0.392644  0.214625  0.942186  2.882185  2.891818   \n",
       "2     0.194361 -0.357258  0.683312  0.962901  1.827849  2.331687 -0.947306   \n",
       "3     0.454684  0.568969  0.031368  2.733181  1.814509  1.673578  0.941006   \n",
       "4    -0.376049 -0.336267  0.933223  0.311185  0.146444  1.388432  0.613712   \n",
       "...        ...       ...       ...       ...       ...       ...       ...   \n",
       "9995  0.125722 -0.541198  0.177473  2.604010  2.796361  2.334236 -1.345676   \n",
       "9996 -0.345578  0.196319  0.187269  3.034485  1.748255  2.801285  2.394402   \n",
       "9997  0.600052 -0.299898  0.446559  1.692218  0.371799  0.829401 -0.645432   \n",
       "9998  0.082431 -0.296169  0.679894  2.406636  3.108852  1.230222 -1.706557   \n",
       "9999  0.329782  0.477347  0.617345  2.731013  2.557545  0.201026  0.959184   \n",
       "\n",
       "            q2   q3        q4        q5        q6        q7  \n",
       "0    -1.725471  0.0 -0.000000  0.638371 -2.186074 -0.336828  \n",
       "1     0.622340  0.0  1.732539  1.502674 -1.205165  1.689871  \n",
       "2     0.186138  0.0  1.387607  2.620345 -2.197973  2.733622  \n",
       "3     1.477768  0.0  0.755464  2.827526 -0.980814  3.117999  \n",
       "4    -0.765404  0.0 -0.000000  2.424813 -2.359557 -2.075446  \n",
       "...        ...  ...       ...       ...       ...       ...  \n",
       "9995  0.966797  0.0  1.953614 -0.015488 -1.102643 -1.811005  \n",
       "9996  0.937538  0.0  1.885543 -2.328835 -1.449596 -2.710422  \n",
       "9997  0.791493  0.0  1.231704 -1.811843 -1.444788  2.448335  \n",
       "9998 -0.348852  0.0  2.097890 -1.555350 -1.310998 -0.165310  \n",
       "9999  0.193262  0.0  1.737677 -0.130561 -0.251814 -0.873177  \n",
       "\n",
       "[10000 rows x 13 columns]"
      ]
     },
     "execution_count": 11,
     "metadata": {},
     "output_type": "execute_result"
    }
   ],
   "source": [
    "data = {'x':X, 'y':Y, 'z':Z, 'phi':PHI, 'theta':THETA, 'psi':PSI,\n",
    "        'q1':Q1, 'q2':Q2, 'q3':Q3, 'q4':Q4, 'q5':Q5, 'q6':Q6, 'q7':Q7}\n",
    "#data = {'x':X, 'y':Y, 'z':Z, 'q1':Q1, 'q2':Q2, 'q3':Q3, 'q4':Q4, 'q5':Q5, 'q6':Q6, 'q7':Q7}\n",
    "df = pd.DataFrame(data)\n",
    "df"
   ]
  },
  {
   "cell_type": "code",
   "execution_count": 12,
   "metadata": {},
   "outputs": [],
   "source": [
    "#dt.to_excel(r'dt.xlsx', index = False, float_format=\"%.4f\")\n",
    "df.to_excel(r'/Users/Usuario/Desktop/SIMULACION TESINA/datos_tesina.xlsx', index = False)"
   ]
  },
  {
   "cell_type": "code",
   "execution_count": null,
   "metadata": {},
   "outputs": [],
   "source": []
  }
 ],
 "metadata": {
  "kernelspec": {
   "display_name": "Python 3",
   "language": "python",
   "name": "python3"
  },
  "language_info": {
   "codemirror_mode": {
    "name": "ipython",
    "version": 3
   },
   "file_extension": ".py",
   "mimetype": "text/x-python",
   "name": "python",
   "nbconvert_exporter": "python",
   "pygments_lexer": "ipython3",
   "version": "3.8.5"
  }
 },
 "nbformat": 4,
 "nbformat_minor": 2
}
