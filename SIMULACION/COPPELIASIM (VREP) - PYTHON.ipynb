{
 "cells": [
  {
   "cell_type": "code",
   "execution_count": 43,
   "metadata": {},
   "outputs": [],
   "source": [
    "import sim as vrep\n",
    "import numpy as np"
   ]
  },
  {
   "cell_type": "code",
   "execution_count": 44,
   "metadata": {},
   "outputs": [],
   "source": [
    "def connect(port):\n",
    "# Establece la conexión a VREP\n",
    "# port debe coincidir con el puerto de conexión en VREP\n",
    "# retorna el número de cliente o -1 si no puede establecer conexión\n",
    "    vrep.simxFinish(-1) # just in case, close all opened connections\n",
    "    clientID = vrep.simxStart('127.0.0.1',port,True,True,2000,5) # Conectarse\n",
    "    if clientID == 0:\n",
    "        vrep.simxAddStatusbarMessage(clientID,'Comunicacion con Python iniciada',vrep.simx_opmode_blocking);\n",
    "        print('Comunicacion con Python iniciada');\n",
    "    else: \n",
    "        print(\"no se pudo conectar\")\n",
    "    return clientID"
   ]
  },
  {
   "cell_type": "code",
   "execution_count": 40,
   "metadata": {},
   "outputs": [
    {
     "name": "stdout",
     "output_type": "stream",
     "text": [
      "Comunicacion con Python iniciada\n"
     ]
    }
   ],
   "source": [
    "# Conectarse al servidor de VREP\n",
    "# *** ejecutar cada vez que se reinicia la simulación ***\n",
    "clientID = connect(19999)"
   ]
  },
  {
   "cell_type": "code",
   "execution_count": 41,
   "metadata": {},
   "outputs": [],
   "source": [
    "#q = np.array([0, 0, 0, 0, 0, 0, 0])\n",
    "#q = q*np.pi/180\n",
    "\n",
    "# Obtenemos los manejadores para cada una de las articulaciones del robot\n",
    "ret,joint1 = vrep.simxGetObjectHandle(clientID,'joint1',vrep.simx_opmode_blocking)\n",
    "ret,joint2 = vrep.simxGetObjectHandle(clientID,'joint2',vrep.simx_opmode_blocking)\n",
    "ret,joint3 = vrep.simxGetObjectHandle(clientID,'joint3',vrep.simx_opmode_blocking)\n",
    "ret,joint4 = vrep.simxGetObjectHandle(clientID,'joint4',vrep.simx_opmode_blocking)\n",
    "ret,joint5 = vrep.simxGetObjectHandle(clientID,'joint5',vrep.simx_opmode_blocking)\n",
    "ret,joint6 = vrep.simxGetObjectHandle(clientID,'joint6',vrep.simx_opmode_blocking)\n",
    "ret,joint7 = vrep.simxGetObjectHandle(clientID,'joint7',vrep.simx_opmode_blocking)\n",
    "\n",
    "# enviamos la posición de joint1, en radianes.\n",
    "returnCode = vrep.simxSetJointTargetPosition(clientID, joint1, q[0], vrep.simx_opmode_oneshot)\n",
    "returnCode = vrep.simxSetJointTargetPosition(clientID, joint2, q[1], vrep.simx_opmode_oneshot)\n",
    "returnCode = vrep.simxSetJointTargetPosition(clientID, joint3, q[2], vrep.simx_opmode_oneshot)\n",
    "returnCode = vrep.simxSetJointTargetPosition(clientID, joint4, q[3], vrep.simx_opmode_oneshot)\n",
    "returnCode = vrep.simxSetJointTargetPosition(clientID, joint5, q[4], vrep.simx_opmode_oneshot)\n",
    "returnCode = vrep.simxSetJointTargetPosition(clientID, joint6, q[5], vrep.simx_opmode_oneshot)\n",
    "returnCode = vrep.simxSetJointTargetPosition(clientID, joint7, q[6], vrep.simx_opmode_oneshot)"
   ]
  },
  {
   "cell_type": "code",
   "execution_count": 42,
   "metadata": {},
   "outputs": [
    {
     "name": "stdout",
     "output_type": "stream",
     "text": [
      "[0.002369927940890193, -3.4967124520335346e-05, 1.305991768836975]\n"
     ]
    }
   ],
   "source": [
    "# Obtenemos el manejador para el dummy \n",
    "returnCode,handle=vrep.simxGetObjectHandle(clientID,'Dummy',vrep.simx_opmode_blocking)\n",
    "# A partir de su manejador podemos accionar sobre el objeto,\n",
    "# por ejemplo, obtener su posición\n",
    "returnCode,pos = vrep.simxGetObjectPosition(clientID, handle, -1, vrep.simx_opmode_blocking)\n",
    "print(pos)"
   ]
  },
  {
   "cell_type": "code",
   "execution_count": null,
   "metadata": {},
   "outputs": [],
   "source": []
  }
 ],
 "metadata": {
  "kernelspec": {
   "display_name": "Python 3",
   "language": "python",
   "name": "python3"
  },
  "language_info": {
   "codemirror_mode": {
    "name": "ipython",
    "version": 3
   },
   "file_extension": ".py",
   "mimetype": "text/x-python",
   "name": "python",
   "nbconvert_exporter": "python",
   "pygments_lexer": "ipython3",
   "version": "3.7.4"
  }
 },
 "nbformat": 4,
 "nbformat_minor": 2
}
